{
 "cells": [
  {
   "cell_type": "code",
   "execution_count": 7,
   "metadata": {},
   "outputs": [],
   "source": [
    "import numpy as np\n",
    "import os.path\n",
    "import sys\n",
    "from os import listdir\n",
    "from os.path import isfile, join"
   ]
  },
  {
   "cell_type": "code",
   "execution_count": 8,
   "metadata": {},
   "outputs": [],
   "source": [
    "def overlap(start1, end1, start2, end2):\n",
    "    \"\"\"Does the range (start1, end1) overlap with (start2, end2)?\"\"\"\n",
    "    return end1 >= start2 and end2 >= start1"
   ]
  },
  {
   "cell_type": "code",
   "execution_count": 9,
   "metadata": {},
   "outputs": [],
   "source": [
    "def time_ranges(file_name):\n",
    "    file_labeled = open(file_name,\"r\")\n",
    "    time_ranges = []\n",
    "    for curr_line in file_labeled:\n",
    "        curr_line_split = curr_line.split(\" \")\n",
    "        if curr_line_split[2] == \"crosswalk\\n\":\n",
    "            curr_range = [int(curr_line_split[0]), int(curr_line_split[1])]\n",
    "            time_ranges.append(curr_range)\n",
    "    return time_ranges"
   ]
  },
  {
   "cell_type": "code",
   "execution_count": 10,
   "metadata": {},
   "outputs": [],
   "source": [
    "def eval_ranges(hand,auto):\n",
    "    true_positive = 0\n",
    "    false_positive = 0\n",
    "    true_negative = 0\n",
    "    \n",
    "    for hand_row in hand:\n",
    "        had_overlap = False\n",
    "        for auto_row in auto:\n",
    "            if overlap(hand_row[0],hand_row[1],auto_row[0],auto_row[1]):\n",
    "                had_overlap = True\n",
    "                break\n",
    "        \n",
    "        if had_overlap:\n",
    "            true_positive = true_positive + 1\n",
    "        else:\n",
    "            true_negative = true_negative + 1\n",
    "    \n",
    "    for auto_row_2 in auto:\n",
    "        had_overlap = False\n",
    "        for hand_row_2 in hand:\n",
    "            if overlap(hand_row_2[0],hand_row_2[1],auto_row_2[0],auto_row_2[1]):\n",
    "                had_overlap = True\n",
    "                break\n",
    "        \n",
    "        if not had_overlap:\n",
    "            false_positive = false_positive + 1\n",
    "    \n",
    "    return true_positive,false_positive,true_negative"
   ]
  },
  {
   "cell_type": "code",
   "execution_count": 11,
   "metadata": {},
   "outputs": [
    {
     "name": "stdout",
     "output_type": "stream",
     "text": [
      "Found 5 hand labeled files.\n",
      "5E64065F.txt results: 9 true positives, 4 false positives, 0 true negatives\n",
      "5E63EB7D.txt results: 6 true positives, 7 false positives, 16 true negatives\n",
      "5E6409C3.txt results: 11 true positives, 4 false positives, 0 true negatives\n",
      "5E63FC33.txt results: 10 true positives, 0 false positives, 4 true negatives\n",
      "5E640A7D.txt results: 8 true positives, 17 false positives, 2 true negatives\n",
      "Total true positives: 44\n",
      "Total false positives: 32\n",
      "Total true negatives: 22\n",
      "Total accuracy: 44.89795918367347%\n",
      "Finished crosswalk evaluation\n"
     ]
    }
   ],
   "source": [
    "new_path = \"/home/jspall/Documents/GitHub/ECE4271_Proj4/output\"\n",
    "hand_path = new_path+\"/hand/\"\n",
    "auto_path = new_path+\"/auto/\"\n",
    "os.chdir(new_path)\n",
    "\n",
    "\n",
    "onlyfiles = [f for f in listdir(hand_path) if isfile(join(hand_path, f))]\n",
    "\n",
    "txt_files = 0\n",
    "hand_file_lists = []\n",
    "\n",
    "for file in onlyfiles:\n",
    "    if file.endswith(\".txt\") or file.endswith(\".TXT\"):\n",
    "        txt_files = txt_files + 1\n",
    "        hand_file_lists.append(file)\n",
    "        \n",
    "    else:\n",
    "        print(file + \" not txt, skipped.\")\n",
    "\n",
    "print(\"Found \" +  str(txt_files) + \" hand labeled files.\")\n",
    "if len(hand_file_lists) > 0:\n",
    "    total_true_positives = 0\n",
    "    total_false_positive = 0\n",
    "    total_true_negative = 0\n",
    "    \n",
    "    for hand_file_row in hand_file_lists:\n",
    "        current_hand_file_path = hand_path+hand_file_row\n",
    "        current_auto_file_path = auto_path+hand_file_row\n",
    "        \n",
    "        hand_ranges = time_ranges(current_hand_file_path)\n",
    "        \n",
    "        if(not os.path.isfile(current_auto_file_path)):\n",
    "            all_true_negatives = len(hand_ranges)\n",
    "            total_true_negative = total_true_negative + all_true_negatives\n",
    "            print(\"Missing \" + hand_file_row + \" in auto for comparison, marking \" + str(all_true_negatives) \n",
    "                  + \" as true negatives.\")\n",
    "        else:\n",
    "            auto_ranges = time_ranges(current_auto_file_path)\n",
    "            curr_tp,curr_fp,curr_tn = eval_ranges(hand_ranges,auto_ranges)\n",
    "            total_true_positives = total_true_positives + curr_tp\n",
    "            total_false_positive = total_false_positive + curr_fp\n",
    "            total_true_negative = total_true_negative + curr_tn\n",
    "            print(hand_file_row + \" results: \" \n",
    "                  + str(curr_tp) + \" true positives, \" \n",
    "                  + str(curr_fp) + \" false positives, \"\n",
    "                  + str(curr_tn) + \" true negatives\")\n",
    "            \n",
    "    \n",
    "        \n",
    "    print(\"Total true positives: \" + str(total_true_positives))\n",
    "    print(\"Total false positives: \" + str(total_false_positive))\n",
    "    print(\"Total true negatives: \" + str(total_true_negative))\n",
    "    print(\"Total accuracy: \" + \n",
    "          str(100*total_true_positives/(total_true_positives+total_false_positive+total_true_negative)) + \"%\")\n",
    "else:\n",
    "    print(\"Missing hand labeled files!\")\n",
    "print(\"Finished crosswalk evaluation\")"
   ]
  },
  {
   "cell_type": "code",
   "execution_count": null,
   "metadata": {},
   "outputs": [],
   "source": []
  },
  {
   "cell_type": "code",
   "execution_count": null,
   "metadata": {},
   "outputs": [],
   "source": []
  }
 ],
 "metadata": {
  "kernelspec": {
   "display_name": "Python 3",
   "language": "python",
   "name": "python3"
  },
  "language_info": {
   "codemirror_mode": {
    "name": "ipython",
    "version": 3
   },
   "file_extension": ".py",
   "mimetype": "text/x-python",
   "name": "python",
   "nbconvert_exporter": "python",
   "pygments_lexer": "ipython3",
   "version": "3.7.6"
  }
 },
 "nbformat": 4,
 "nbformat_minor": 4
}
