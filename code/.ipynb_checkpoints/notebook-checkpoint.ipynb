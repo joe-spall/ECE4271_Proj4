{
 "cells": [
  {
   "cell_type": "code",
   "execution_count": 1,
   "metadata": {
    "scrolled": true
   },
   "outputs": [],
   "source": [
    "#export\n",
    "import librosa\n",
    "import numpy as np\n",
    "import os.path\n",
    "import sys\n",
    "\n",
    "from operator import itemgetter\n",
    "from itertools import groupby\n"
   ]
  },
  {
   "cell_type": "code",
   "execution_count": 2,
   "metadata": {},
   "outputs": [],
   "source": [
    "#export\n",
    "######### CONSTANTS #########\n",
    "# Sampling STFT properties\n",
    "n_fft = 1024\n",
    "hop_length = int(float(n_fft)/4)\n",
    "\n",
    "# Crosswalk isolation properties\n",
    "# (in seconds)\n",
    "beep_duration_time = 0.02666666666666667\n",
    "\n",
    "# (in seconds)\n",
    "beep_period_time = 1.0133333333333334\n",
    "\n",
    "# (in seconds)\n",
    "beep_period_time_variance = 0.02666666666666667\n",
    "\n",
    "# (in hertz)\n",
    "harmonic_freq_ranges = [[-1,-1],\n",
    "                        [2500,2800]]\n",
    "# (in dB)\n",
    "minimum_freq_threshold_db = -40\n"
   ]
  },
  {
   "cell_type": "code",
   "execution_count": 3,
   "metadata": {},
   "outputs": [],
   "source": [
    "#export\n",
    "\n",
    "def foreground_isolation(audio, sample_rate = 480000):\n",
    "    \"\"\" \n",
    "    Isolate foreground audio\n",
    "    \n",
    "    Used to isolate foreground audio. Based on https://librosa.github.io/librosa_gallery/\n",
    "    auto_examples/plot_vocal_separation.html. Looks at the STFT of the audio input, generates a \n",
    "    nearest-neighbor filter, and softmasks audio with generated filter. \n",
    "\n",
    "    \n",
    "    Parameters: \n",
    "    audio (numpy.ndarray): The audio to be isolated.\n",
    "    \n",
    "    Returns: \n",
    "    isolated_audio (numpy.ndarray): The audio after having the foreground isolated.\n",
    "    S_full (numpy.ndarray): Spectagram of the full waveform.\n",
    "    S_foreground (numpy.ndarray): Spectagram of the foreground waveform.\n",
    "    \"\"\"\n",
    "    \n",
    "    S_full, phase = librosa.magphase(librosa.stft(audio,n_fft=n_fft))\n",
    "\n",
    "    # We'll compare frames using cosine similarity, and aggregate similar frames\n",
    "    # by taking their (per-frequency) median value.\n",
    "    #\n",
    "    # To avoid being biased by local continuity, we constrain similar frames to be\n",
    "    # separated by at least 2 seconds.\n",
    "    #\n",
    "    # This suppresses sparse/non-repetetitive deviations from the average spectrum,\n",
    "    # and works well to discard vocal elements.\n",
    "    S_filter = librosa.decompose.nn_filter(S_full,\n",
    "                                           aggregate=np.median,\n",
    "                                           metric='cosine',\n",
    "                                           width=int(librosa.time_to_frames(2, sr=sample_rate)))\n",
    "    \n",
    "    # The output of the filter shouldn't be greater than the input\n",
    "    # if we assume signals are additive.  Taking the pointwise minimium\n",
    "    # with the input spectrum forces this.\n",
    "    S_filter = np.minimum(S_full, S_filter)\n",
    "                                           \n",
    "    # We can also use a margin to reduce bleed between the vocals and instrumentation masks.\n",
    "    # Note: the margins need not be equal for foreground and background separation\n",
    "    \n",
    "    margin_v = 10\n",
    "    power = 2\n",
    "    \n",
    "    mask_v = librosa.util.softmask(S_full - S_filter,\n",
    "                                   margin_v * S_filter,\n",
    "                                   power=power)\n",
    "    \n",
    "    # Once we have the masks, simply multiply them with the input spectrum\n",
    "    # to separate thharmonic_freq_rangese components\n",
    "    \n",
    "    S_foreground = mask_v * S_full\n",
    "    \n",
    "    isolated_audio = librosa.istft(S_foreground)\n",
    "    return isolated_audio, S_full, S_foreground"
   ]
  },
  {
   "cell_type": "code",
   "execution_count": 4,
   "metadata": {},
   "outputs": [],
   "source": [
    "#export\n",
    "def crosswalk_isolation(audio,frequencies,sample_rate = 480000,*,beep_duration= 3,beep_period = 188, beep_period_variance=3,\n",
    "                        amplitude_threshold=-999):\n",
    "    \"\"\" \n",
    "    Isolate crosswalk beeping\n",
    "    \n",
    "    Used to isolate crosswalk beeping in audio file. Used after initial filtering for better isolation performance. \n",
    "    This zeros out elements that are not crosswalk beeping and returns that matrix.\n",
    "    \n",
    "    Two properties of the beeping are targeted:\n",
    "        1. The duration of the beep.\n",
    "        2. The period on which the beeps are occuring.\n",
    "    \n",
    "    Parameters: \n",
    "    data (numpy.ndarray): The Librosa STFT matrix to process for crosswalk beeping.\n",
    "    freq_indexes (numpy.ndarray):The indexes of the target frequency bin of beeping.\n",
    "    beep_duration (int): The length of the beep in Librosa frames.\n",
    "    beep_period (int): The period of the beeps in Librosa frames.\n",
    "    beep_period_variance (int): The variance in the period of the beeps in Librosa frames.\n",
    "    amplitude_threshold (float): The minimum amplitude of STFT for initial filtering. If not entered, will not \n",
    "    threshold.\n",
    "    \n",
    "    \n",
    "    Returns: \n",
    "    output_data (numpy.ndarray): The Librosa STFT matrix after crosswalk isolation.\n",
    "    found_crosswalk (bool): True if found crosswalk audio, False if no crosswalk audio found.\n",
    "  \n",
    "    \"\"\"\n",
    "    \n",
    "    # Begin isolation\n",
    "    STFT_results = np.abs(librosa.stft(audio,n_fft=n_fft))\n",
    "\n",
    "    # Calculates frequency bins\n",
    "    fft_freqs = librosa.fft_frequencies(sr=sample_rate, n_fft=n_fft)\n",
    "\n",
    "    # Collect STFT index of focus frequency ranges\n",
    "    freq_indexes = np.array([])\n",
    "    for harmonic in frequencies:\n",
    "        current_indexes = np.nonzero((fft_freqs>=harmonic[0]) & (fft_freqs<=harmonic[1]))[0]\n",
    "        freq_indexes = np.append(freq_indexes,current_indexes)\n",
    "\n",
    "    freq_indexes = freq_indexes.astype(int)   \n",
    "\n",
    "    # Frequency of actual bins in ranges\n",
    "    real_freqs = fft_freqs[freq_indexes]\n",
    "\n",
    "    #Sets all components not in crosswalk band frequency to zero\n",
    "    data = np.zeros(STFT_results.shape)\n",
    "    data[freq_indexes,:] = STFT_results[freq_indexes,:]\n",
    "    \n",
    "    # Performs thresholding on amplitude if described\n",
    "    if amplitude_threshold != -999:\n",
    "        data[data < amplitude_threshold] = 0\n",
    "    \n",
    "    data_frame_length = data.shape[1]\n",
    "    freq_rows = freq_indexes.size\n",
    "    found_crosswalk = False\n",
    "    \n",
    "    for row_ind in range(freq_rows):\n",
    "        non_zero_row = np.nonzero(data[freq_indexes[row_ind],:])[0]\n",
    "        new_row = np.zeros(data_frame_length)\n",
    "        # TODO Toggle duration and period\n",
    "        if non_zero_row.size > 0:\n",
    "            valid_pos = []\n",
    "            \n",
    "            for k,g in groupby(enumerate(non_zero_row),lambda x:x[0]-x[1]):\n",
    "                group = (map(itemgetter(1),g))\n",
    "                group = list(map(int,group))\n",
    "                if len(group) >= beep_duration:\n",
    "                    valid_pos.append((group[0],group[-1]))\n",
    "            \n",
    "            new_valid = np.array([])\n",
    "            \n",
    "            #dependent on a beat, needs beep either before or after\n",
    "            if len(valid_pos) > 1:\n",
    "                prev_mean = 0\n",
    "                for ele_ind in range(0,len(valid_pos)-1,1):\n",
    "                    curr_mean = int((valid_pos[ele_ind][0] + valid_pos[ele_ind][1])/2)\n",
    "                    future_mean = int((valid_pos[ele_ind+1][0] + valid_pos[ele_ind+1][1])/2)\n",
    "                    diff_1 = curr_mean-prev_mean\n",
    "                    diff_2 = future_mean-curr_mean\n",
    "                    prev_mean = curr_mean\n",
    "                    if((beep_period-beep_period_variance < diff_1 < beep_period+beep_period_variance) \n",
    "                       or (beep_period-beep_period_variance < diff_2 < beep_period+beep_period_variance)):\n",
    "                        new_valid = np.hstack((new_valid,np.arange(valid_pos[ele_ind][0],valid_pos[ele_ind][1])))\n",
    "\n",
    "            new_valid = np.unique(new_valid).astype(int)\n",
    "            \n",
    "            if len(new_valid) > 1:\n",
    "                new_row[new_valid] = data[freq_indexes[row_ind],new_valid]\n",
    "                found_crosswalk = True\n",
    "\n",
    "        data[freq_indexes[row_ind],:] = new_row\n",
    "    \n",
    "    \n",
    "    output_data = data    \n",
    "    return output_data, found_crosswalk\n",
    "        "
   ]
  },
  {
   "cell_type": "code",
   "execution_count": 5,
   "metadata": {
    "scrolled": true
   },
   "outputs": [],
   "source": [
    "#export\n",
    "def crosswalk_times(audio,sample_rate = 480000):\n",
    "    \"\"\" \n",
    "    Determine crosswalk timestamps\n",
    "    \n",
    "    Used to determine the crosswalk timestamps for an audio clip. Called after all initial filtering has occured.\n",
    "    \n",
    "    Parameters: \n",
    "    audio (numpy.ndarray): The audio for which the timestamps will be generated.\n",
    "    \n",
    "    Returns: \n",
    "    times ([float]): The list of times in seconds during which a crosswalk started.\n",
    "  \n",
    "    \"\"\"\n",
    "    onset_frames = librosa.onset.onset_detect(y=audio, sr=sample_rate)\n",
    "    times = librosa.frames_to_time(onset_frames, sr=sample_rate)\n",
    "    return times"
   ]
  },
  {
   "cell_type": "code",
   "execution_count": 6,
   "metadata": {
    "scrolled": false
   },
   "outputs": [],
   "source": [
    "#export\n",
    "def main(audio_name):\n",
    "    audio_path = audio_name + \".wav\"\n",
    "    \n",
    "    if os.path.isfile(audio_path):\n",
    "        y , sample_rate = librosa.load(audio_path,sr=None)\n",
    "        if not librosa.util.valid_audio(y):\n",
    "            print(audio_path + \" not valid audio!\")\n",
    "            sys.exit(0)\n",
    "        else:\n",
    "            print(\"Found \" + audio_path)\n",
    "    else:\n",
    "        print(audio_path + \" not found!\")\n",
    "        sys.exit(0)\n",
    "    \n",
    "    print(\"Starting foreground isolation on \" + audio_path)\n",
    "    foreground_isolated_audio, S_full, S_foreground = foreground_isolation(y,sample_rate)\n",
    "    print(\"Finished foreground isolation on \" + audio_path)\n",
    "\n",
    "    #Convert to Librosa relevant values\n",
    "    beep_duration_frames = librosa.time_to_frames(beep_duration_time,sr=sample_rate,hop_length=hop_length)\n",
    "    beep_period_frames = librosa.time_to_frames(beep_period_time,sr=sample_rate, hop_length=hop_length)-2\n",
    "    beep_period_frames_variance = librosa.time_to_frames(beep_period_time_variance,sr=sample_rate, \n",
    "                                                         hop_length=hop_length)-2\n",
    "\n",
    "    minimum_freq_threshold_amp = librosa.db_to_amplitude(minimum_freq_threshold_db)\n",
    "\n",
    "    print(\"Starting crosswalk isolation on \" + audio_path)\n",
    "    local_STFT_results,found_crosswalk = crosswalk_isolation(foreground_isolated_audio,\n",
    "                                             frequencies=harmonic_freq_ranges,\n",
    "                                             sample_rate = sample_rate,                \n",
    "                                             beep_duration=beep_duration_frames,\n",
    "                                             beep_period=beep_period_frames,\n",
    "                                             beep_period_variance=beep_period_frames_variance,\n",
    "                                             amplitude_threshold=minimum_freq_threshold_amp)\n",
    "\n",
    "    filtered_isolation_audio = librosa.istft(local_STFT_results)\n",
    "    print(\"Finished crosswalk isolation on \" + audio_path)\n",
    "    \n",
    "    if found_crosswalk:\n",
    "        times = crosswalk_times(filtered_isolation_audio,sample_rate)\n",
    "        if len(times) > 0:\n",
    "            access_type = \"\"\n",
    "            text_file_path = audio_name + \".txt\"\n",
    "            #TODO consider text writing methods\n",
    "            if os.path.isfile(text_file_path):\n",
    "                access_type = \"a\"\n",
    "                print(text_file_path + \" exists, will append.\")\n",
    "            else:\n",
    "                access_type = \"w\"\n",
    "                print(text_file_path + \" does not exist, will make new file.\")\n",
    "             \n",
    "            output_text_file = open(text_file_path, access_type)\n",
    "            for time_element in times:\n",
    "                start_time = int(time_element*1000)\n",
    "                end_time = int(start_time + beep_duration_time*1000)\n",
    "                output_text_file.write(str(start_time) + \" \" + str(end_time) + \" \" + \"crosswalk\\n\")\n",
    "        \n",
    "            output_text_file.close()\n",
    "            print(\"Crosswalk audio found in \" + audio_path + \" and documented in \" + text_file_path)\n",
    "    else:\n",
    "        print(\"No crosswalk audio found in \" + audio_path)\n",
    "        sys.exit(0)"
   ]
  },
  {
   "cell_type": "code",
   "execution_count": 7,
   "metadata": {},
   "outputs": [
    {
     "name": "stdout",
     "output_type": "stream",
     "text": [
      "Starting crosswalk label...\n",
      "-f.wav not found!\n"
     ]
    },
    {
     "ename": "SystemExit",
     "evalue": "0",
     "output_type": "error",
     "traceback": [
      "An exception has occurred, use %tb to see the full traceback.\n",
      "\u001b[0;31mSystemExit\u001b[0m\u001b[0;31m:\u001b[0m 0\n"
     ]
    },
    {
     "name": "stderr",
     "output_type": "stream",
     "text": [
      "/home/jspall/anaconda3/lib/python3.7/site-packages/IPython/core/interactiveshell.py:3339: UserWarning: To exit: use 'exit', 'quit', or Ctrl-D.\n",
      "  warn(\"To exit: use 'exit', 'quit', or Ctrl-D.\", stacklevel=1)\n"
     ]
    }
   ],
   "source": [
    "#export\n",
    "if __name__ == \"__main__\":\n",
    "    print(\"Starting crosswalk label...\")\n",
    "    audio_name = sys.argv[1]\n",
    "    if len(audio_name) > 0:\n",
    "        main(audio_name)\n",
    "    else:\n",
    "        print(\"Please enter audio file name as argument!\")"
   ]
  },
  {
   "cell_type": "markdown",
   "metadata": {},
   "source": [
    "# Report Documents"
   ]
  },
  {
   "cell_type": "code",
   "execution_count": null,
   "metadata": {},
   "outputs": [],
   "source": [
    "import IPython.display as ipd"
   ]
  },
  {
   "cell_type": "code",
   "execution_count": null,
   "metadata": {
    "scrolled": true
   },
   "outputs": [],
   "source": [
    "# Input Audio\n",
    "ipd.Audio(y,rate=sample_rate)"
   ]
  },
  {
   "cell_type": "code",
   "execution_count": null,
   "metadata": {
    "scrolled": true
   },
   "outputs": [],
   "source": [
    "#display waveform\n",
    "%matplotlib inline\n",
    "import matplotlib.pyplot as plt\n",
    "import librosa.display\n",
    "plt.figure(figsize=(14, 5))\n",
    "librosa.display.waveplot(y, sr=sample_rate)\n",
    "plt.show()"
   ]
  },
  {
   "cell_type": "code",
   "execution_count": null,
   "metadata": {},
   "outputs": [],
   "source": [
    "plt.figure(figsize=(12, 8))\n",
    "plt.subplot(2, 1, 1)\n",
    "librosa.display.specshow(librosa.amplitude_to_db(S_full, ref=np.max),\n",
    "                         y_axis='log', sr=sample_rate,hop_length=hop_length)\n",
    "plt.title('Full spectrum')\n",
    "plt.colorbar()\n",
    "\n",
    "plt.subplot(2, 1, 2)\n",
    "librosa.display.specshow(librosa.amplitude_to_db(S_foreground, ref=np.max),\n",
    "                         y_axis='log', x_axis='time', sr=sample_rate,hop_length=hop_length)\n",
    "plt.title('Foreground')\n",
    "plt.colorbar()\n",
    "plt.tight_layout()\n",
    "plt.show()"
   ]
  },
  {
   "cell_type": "code",
   "execution_count": null,
   "metadata": {},
   "outputs": [],
   "source": [
    "ipd.Audio(foreground_isolated_audio,rate=sample_rate)"
   ]
  },
  {
   "cell_type": "code",
   "execution_count": null,
   "metadata": {},
   "outputs": [],
   "source": [
    "ipd.Audio(filtered_isolation_audio,rate=sample_rate)"
   ]
  },
  {
   "cell_type": "code",
   "execution_count": null,
   "metadata": {
    "scrolled": true
   },
   "outputs": [],
   "source": [
    "plt.figure(figsize=(12, 8))\n",
    "plt.subplot(2, 1, 1)\n",
    "librosa.display.specshow(librosa.amplitude_to_db(local_STFT_results,ref=np.max),y_axis='log', x_axis='time'\n",
    "                         ,sr=sample_rate,hop_length=hop_length)\n",
    "plt.title('Power spectrogram')\n",
    "plt.colorbar(format='%+2.0f dB')\n",
    "plt.tight_layout()\n",
    "\n",
    "plt.subplot(2, 1, 2)\n",
    "librosa.display.waveplot(filtered_isolation_audio, sr=sample_rate)\n",
    "plt.show()"
   ]
  },
  {
   "cell_type": "code",
   "execution_count": 8,
   "metadata": {
    "scrolled": true
   },
   "outputs": [
    {
     "ename": "NameError",
     "evalue": "name 'plt' is not defined",
     "output_type": "error",
     "traceback": [
      "\u001b[0;31m---------------------------------------------------------------------------\u001b[0m",
      "\u001b[0;31mNameError\u001b[0m                                 Traceback (most recent call last)",
      "\u001b[0;32m<ipython-input-8-ff2d606c4e71>\u001b[0m in \u001b[0;36m<module>\u001b[0;34m\u001b[0m\n\u001b[0;32m----> 1\u001b[0;31m \u001b[0mplt\u001b[0m\u001b[0;34m.\u001b[0m\u001b[0mfigure\u001b[0m\u001b[0;34m(\u001b[0m\u001b[0mfigsize\u001b[0m\u001b[0;34m=\u001b[0m\u001b[0;34m(\u001b[0m\u001b[0;36m12\u001b[0m\u001b[0;34m,\u001b[0m \u001b[0;36m8\u001b[0m\u001b[0;34m)\u001b[0m\u001b[0;34m)\u001b[0m\u001b[0;34m\u001b[0m\u001b[0;34m\u001b[0m\u001b[0m\n\u001b[0m\u001b[1;32m      2\u001b[0m \u001b[0mlibrosa\u001b[0m\u001b[0;34m.\u001b[0m\u001b[0mdisplay\u001b[0m\u001b[0;34m.\u001b[0m\u001b[0mwaveplot\u001b[0m\u001b[0;34m(\u001b[0m\u001b[0my\u001b[0m\u001b[0;34m,\u001b[0m \u001b[0msr\u001b[0m\u001b[0;34m=\u001b[0m\u001b[0msample_rate\u001b[0m\u001b[0;34m)\u001b[0m\u001b[0;34m\u001b[0m\u001b[0;34m\u001b[0m\u001b[0m\n\u001b[1;32m      3\u001b[0m plt.vlines(times, np.min(y), np.max(y), color='r', alpha=0.9,\n\u001b[1;32m      4\u001b[0m            linestyle='--', label='Onsets')\n\u001b[1;32m      5\u001b[0m \u001b[0mplt\u001b[0m\u001b[0;34m.\u001b[0m\u001b[0maxis\u001b[0m\u001b[0;34m(\u001b[0m\u001b[0;34m'tight'\u001b[0m\u001b[0;34m)\u001b[0m\u001b[0;34m\u001b[0m\u001b[0;34m\u001b[0m\u001b[0m\n",
      "\u001b[0;31mNameError\u001b[0m: name 'plt' is not defined"
     ]
    }
   ],
   "source": [
    "plt.figure(figsize=(12, 8))\n",
    "librosa.display.waveplot(y, sr=sample_rate)\n",
    "plt.vlines(times, np.min(y), np.max(y), color='r', alpha=0.9,\n",
    "           linestyle='--', label='Onsets')\n",
    "plt.axis('tight')\n",
    "plt.legend(frameon=True, framealpha=0.75)\n",
    "plt.show()"
   ]
  }
 ],
 "metadata": {
  "kernelspec": {
   "display_name": "Python 3",
   "language": "python",
   "name": "python3"
  },
  "language_info": {
   "codemirror_mode": {
    "name": "ipython",
    "version": 3
   },
   "file_extension": ".py",
   "mimetype": "text/x-python",
   "name": "python",
   "nbconvert_exporter": "python",
   "pygments_lexer": "ipython3",
   "version": "3.7.6"
  }
 },
 "nbformat": 4,
 "nbformat_minor": 4
}
